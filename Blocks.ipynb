{
 "cells": [
  {
   "cell_type": "code",
   "execution_count": 1,
   "metadata": {},
   "outputs": [],
   "source": [
    "line = \"  Hmmm.. this is weird a lot of things are here. .. AA GEGEGEHJ \""
   ]
  },
  {
   "cell_type": "code",
   "execution_count": 2,
   "metadata": {},
   "outputs": [
    {
     "name": "stdout",
     "output_type": "stream",
     "text": [
      "7116236051\n"
     ]
    }
   ],
   "source": [
    "p = 7121\n",
    "q = 999331\n",
    "n = p*q\n",
    "print(n)"
   ]
  },
  {
   "cell_type": "code",
   "execution_count": 3,
   "metadata": {},
   "outputs": [
    {
     "name": "stdout",
     "output_type": "stream",
     "text": [
      "9\n"
     ]
    }
   ],
   "source": [
    "def calc_block_size(n):\n",
    "  num_digits = len(str(n))\n",
    "\n",
    "  if num_digits % 3 == 0:\n",
    "    if n < int(\"127\"*(num_digits//3)):\n",
    "      block_size = num_digits - 3\n",
    "    else:\n",
    "      block_size = num_digits\n",
    "  \n",
    "  else:\n",
    "    block_size = 3 * (num_digits//3)\n",
    "\n",
    "  return block_size\n",
    "\n",
    "block_size = calc_block_size(n)\n",
    "print(block_size)"
   ]
  },
  {
   "cell_type": "code",
   "execution_count": 10,
   "metadata": {},
   "outputs": [
    {
     "name": "stdout",
     "output_type": "stream",
     "text": [
      "032032072109109109046046032116104105115032105115032119101105114100032097032108111116032111102032116104105110103115032097114101032104101114101046032046046032065065032071069071069071069072074032\n"
     ]
    }
   ],
   "source": [
    "integer_sequence = \"\".join([f\"{ord(x):03d}\" for x in line])\n",
    "print(integer_sequence)"
   ]
  },
  {
   "cell_type": "code",
   "execution_count": 16,
   "metadata": {},
   "outputs": [
    {
     "name": "stdout",
     "output_type": "stream",
     "text": [
      "['032032072', '109109109', '046046032', '116104105', '115032105', '115032119', '101105114', '100032097', '032108111', '116032111', '102032116', '104105110', '103115032', '097114101', '032104101', '114101046', '032046046', '032065065', '032071069', '071069071', '069072074', '032000000']\n"
     ]
    }
   ],
   "source": [
    "blocks = [integer_sequence[i:i+block_size] for i in range(0,len(integer_sequence),block_size)]\n",
    "blocks[-1] = blocks[-1] + (block_size - len(blocks[-1]) ) * \"0\"\n",
    "print(blocks)"
   ]
  },
  {
   "cell_type": "code",
   "execution_count": 6,
   "metadata": {},
   "outputs": [],
   "source": [
    "def mod_exp(b, d, modulus):\n",
    "    d = bin(d)[2:]\n",
    "    r = 1  #remainder\n",
    "    for i in range(len(d) - 1, -1, -1):\n",
    "        r = (r * b ** int(d[i])) % modulus\n",
    "        b = (b ** 2) % modulus\n",
    "    return r"
   ]
  },
  {
   "cell_type": "code",
   "execution_count": 7,
   "metadata": {},
   "outputs": [],
   "source": [
    "e = 6737"
   ]
  },
  {
   "cell_type": "code",
   "execution_count": 20,
   "metadata": {},
   "outputs": [
    {
     "name": "stdout",
     "output_type": "stream",
     "text": [
      "6011742661 3072091704 2571770464 4452250027 6121734424 3042256482 1367438649 2050457302 1179929718 1205805054 4380875253 2100263643 1584240746 3708821036 3933237801 3444292102 6004630938 2677183095 2959474816 5550671219 6164467505 6243745931\n"
     ]
    }
   ],
   "source": [
    "ciphered_line = \" \".join([str(mod_exp(int(block), e, n)) for block in blocks])\n",
    "print(ciphered_line)"
   ]
  },
  {
   "cell_type": "code",
   "execution_count": 33,
   "metadata": {},
   "outputs": [],
   "source": [
    "d = 5197275473"
   ]
  },
  {
   "cell_type": "code",
   "execution_count": 109,
   "metadata": {},
   "outputs": [
    {
     "name": "stdout",
     "output_type": "stream",
     "text": [
      "['32032072', '109109109', '46046032', '116104105', '115032105', '115032119', '101105114', '100032097', '32108111', '116032111', '102032116', '104105110', '103115032', '97114101', '32104101', '114101046', '32046046', '32065065', '32071069', '71069071', '69072074', '32000000']\n"
     ]
    }
   ],
   "source": [
    "deciphered_blocks = [str(mod_exp(int(c), d, n)) for c in ciphered_line.split(\" \")]\n",
    "print(deciphered_blocks)"
   ]
  },
  {
   "cell_type": "code",
   "execution_count": 114,
   "metadata": {},
   "outputs": [
    {
     "name": "stdout",
     "output_type": "stream",
     "text": [
      "  Hmmm.. this is weird a lot of things are here. .. AA GEGEGEHJ \n"
     ]
    }
   ],
   "source": [
    "deciphered_blocks = [str(mod_exp(int(c), d, n)) for c in ciphered_line.split(\" \")]\n",
    "deciphered_blocks = [[int(block[i:i-3:-1][::-1]) for i in range(-1, -block_size, -3)][::-1] for block in deciphered_blocks]\n",
    "deciphered_blocks[-1] = [code for code in deciphered_blocks[-1] if code != 0]\n",
    "recovered_line = \"\".join([chr(code) for block in deciphered_blocks for code in block])\n",
    "print(recovered_line)"
   ]
  }
 ],
 "metadata": {
  "kernelspec": {
   "display_name": "Python 3",
   "language": "python",
   "name": "python3"
  },
  "language_info": {
   "codemirror_mode": {
    "name": "ipython",
    "version": 3
   },
   "file_extension": ".py",
   "mimetype": "text/x-python",
   "name": "python",
   "nbconvert_exporter": "python",
   "pygments_lexer": "ipython3",
   "version": "3.8.5"
  }
 },
 "nbformat": 4,
 "nbformat_minor": 4
}
